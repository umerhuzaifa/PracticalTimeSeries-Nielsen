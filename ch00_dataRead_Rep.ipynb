{
 "cells": [
  {
   "cell_type": "code",
   "execution_count": 1,
   "id": "f9764933",
   "metadata": {},
   "outputs": [],
   "source": [
    "# -*- coding: utf-8 -*-\n",
    "\"\"\"\n",
    "Created on Mon Aug 21 16:09:24 2023\n",
    "\n",
    "@author: MHUZAIFA\n",
    "\"\"\"\n",
    "\n",
    "#%% A script for doing data cleaning such as smoothing operation using techniques\n",
    "# like moving average, low pass filtering etc.\n",
    "\n",
    "# Umer Huzaifa\n",
    "# August 21, 2023\n",
    "\n",
    "import pandas as pd\n",
    "import matplotlib.pyplot as plt\n",
    "\n",
    "data_raw_pass = pd.read_csv('data/AirPassengers.csv',delimiter=',')\n",
    "\n",
    "data_raw_pass.columns = ['Year-Month', 'Number']\n",
    "\n",
    "data_raw_pass.index = pd.Series(data_raw_pass.iloc[:,0]) \n",
    "\n",
    "\n",
    "data_raw_pass['Smooth0.5']= data_raw_pass['Number'].ewm(alpha=0.2).mean()\n",
    "\n",
    "# data_passengers.plot()\n",
    "\n",
    "fig, axes = plt.subplots(nrows = 2, ncols = 2)\n",
    "\n",
    "axes[0,0].plot(data_raw_pass['Number'])\n",
    "axes[0,0].set_title('Raw Passengers Over the Years')\n",
    "\n",
    "axes[0,0].plot(data_raw_pass['Smooth0.5'])\n",
    "plt.show()\n",
    "\n",
    "\n"
   ]
  },
  {
   "cell_type": "code",
   "execution_count": null,
   "id": "a737ac49",
   "metadata": {},
   "outputs": [],
   "source": []
  }
 ],
 "metadata": {
  "kernelspec": {
   "display_name": "Python 3 (ipykernel)",
   "language": "python",
   "name": "python3"
  },
  "language_info": {
   "codemirror_mode": {
    "name": "ipython",
    "version": 3
   },
   "file_extension": ".py",
   "mimetype": "text/x-python",
   "name": "python",
   "nbconvert_exporter": "python",
   "pygments_lexer": "ipython3",
   "version": "3.8.3"
  }
 },
 "nbformat": 4,
 "nbformat_minor": 5
}
